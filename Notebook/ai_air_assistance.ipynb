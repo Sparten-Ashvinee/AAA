{
  "nbformat": 4,
  "nbformat_minor": 0,
  "metadata": {
    "colab": {
      "provenance": []
    },
    "kernelspec": {
      "name": "python3",
      "display_name": "Python 3"
    },
    "language_info": {
      "name": "python"
    }
  },
  "cells": [
    {
      "cell_type": "code",
      "execution_count": 2,
      "metadata": {
        "colab": {
          "base_uri": "https://localhost:8080/"
        },
        "id": "sE-m-hjLM50g",
        "outputId": "82ace4b3-f6ac-480b-f5c6-cea3a5a521f2"
      },
      "outputs": [
        {
          "output_type": "stream",
          "name": "stdout",
          "text": [
            "Collecting boto3\n",
            "  Downloading boto3-1.38.41-py3-none-any.whl.metadata (6.6 kB)\n",
            "Collecting botocore<1.39.0,>=1.38.41 (from boto3)\n",
            "  Downloading botocore-1.38.41-py3-none-any.whl.metadata (5.7 kB)\n",
            "Collecting jmespath<2.0.0,>=0.7.1 (from boto3)\n",
            "  Downloading jmespath-1.0.1-py3-none-any.whl.metadata (7.6 kB)\n",
            "Collecting s3transfer<0.14.0,>=0.13.0 (from boto3)\n",
            "  Downloading s3transfer-0.13.0-py3-none-any.whl.metadata (1.7 kB)\n",
            "Requirement already satisfied: python-dateutil<3.0.0,>=2.1 in /usr/local/lib/python3.11/dist-packages (from botocore<1.39.0,>=1.38.41->boto3) (2.9.0.post0)\n",
            "Requirement already satisfied: urllib3!=2.2.0,<3,>=1.25.4 in /usr/local/lib/python3.11/dist-packages (from botocore<1.39.0,>=1.38.41->boto3) (2.4.0)\n",
            "Requirement already satisfied: six>=1.5 in /usr/local/lib/python3.11/dist-packages (from python-dateutil<3.0.0,>=2.1->botocore<1.39.0,>=1.38.41->boto3) (1.17.0)\n",
            "Downloading boto3-1.38.41-py3-none-any.whl (139 kB)\n",
            "\u001b[2K   \u001b[90m━━━━━━━━━━━━━━━━━━━━━━━━━━━━━━━━━━━━━━━━\u001b[0m \u001b[32m139.9/139.9 kB\u001b[0m \u001b[31m4.4 MB/s\u001b[0m eta \u001b[36m0:00:00\u001b[0m\n",
            "\u001b[?25hDownloading botocore-1.38.41-py3-none-any.whl (13.7 MB)\n",
            "\u001b[2K   \u001b[90m━━━━━━━━━━━━━━━━━━━━━━━━━━━━━━━━━━━━━━━━\u001b[0m \u001b[32m13.7/13.7 MB\u001b[0m \u001b[31m41.3 MB/s\u001b[0m eta \u001b[36m0:00:00\u001b[0m\n",
            "\u001b[?25hDownloading jmespath-1.0.1-py3-none-any.whl (20 kB)\n",
            "Downloading s3transfer-0.13.0-py3-none-any.whl (85 kB)\n",
            "\u001b[2K   \u001b[90m━━━━━━━━━━━━━━━━━━━━━━━━━━━━━━━━━━━━━━━━\u001b[0m \u001b[32m85.2/85.2 kB\u001b[0m \u001b[31m5.6 MB/s\u001b[0m eta \u001b[36m0:00:00\u001b[0m\n",
            "\u001b[?25hInstalling collected packages: jmespath, botocore, s3transfer, boto3\n",
            "Successfully installed boto3-1.38.41 botocore-1.38.41 jmespath-1.0.1 s3transfer-0.13.0\n"
          ]
        }
      ],
      "source": [
        "!pip install boto3"
      ]
    },
    {
      "cell_type": "code",
      "source": [
        "!pip install pandas scikit-learn matplotlib seaborn xgboost"
      ],
      "metadata": {
        "colab": {
          "base_uri": "https://localhost:8080/"
        },
        "id": "fD-Oa72Fvo_2",
        "outputId": "b0eeea0a-c985-498c-efb6-88bdf818f7d9"
      },
      "execution_count": 3,
      "outputs": [
        {
          "output_type": "stream",
          "name": "stdout",
          "text": [
            "Requirement already satisfied: pandas in /usr/local/lib/python3.11/dist-packages (2.2.2)\n",
            "Requirement already satisfied: scikit-learn in /usr/local/lib/python3.11/dist-packages (1.6.1)\n",
            "Requirement already satisfied: matplotlib in /usr/local/lib/python3.11/dist-packages (3.10.0)\n",
            "Requirement already satisfied: seaborn in /usr/local/lib/python3.11/dist-packages (0.13.2)\n",
            "Requirement already satisfied: xgboost in /usr/local/lib/python3.11/dist-packages (2.1.4)\n",
            "Requirement already satisfied: numpy>=1.23.2 in /usr/local/lib/python3.11/dist-packages (from pandas) (2.0.2)\n",
            "Requirement already satisfied: python-dateutil>=2.8.2 in /usr/local/lib/python3.11/dist-packages (from pandas) (2.9.0.post0)\n",
            "Requirement already satisfied: pytz>=2020.1 in /usr/local/lib/python3.11/dist-packages (from pandas) (2025.2)\n",
            "Requirement already satisfied: tzdata>=2022.7 in /usr/local/lib/python3.11/dist-packages (from pandas) (2025.2)\n",
            "Requirement already satisfied: scipy>=1.6.0 in /usr/local/lib/python3.11/dist-packages (from scikit-learn) (1.15.3)\n",
            "Requirement already satisfied: joblib>=1.2.0 in /usr/local/lib/python3.11/dist-packages (from scikit-learn) (1.5.1)\n",
            "Requirement already satisfied: threadpoolctl>=3.1.0 in /usr/local/lib/python3.11/dist-packages (from scikit-learn) (3.6.0)\n",
            "Requirement already satisfied: contourpy>=1.0.1 in /usr/local/lib/python3.11/dist-packages (from matplotlib) (1.3.2)\n",
            "Requirement already satisfied: cycler>=0.10 in /usr/local/lib/python3.11/dist-packages (from matplotlib) (0.12.1)\n",
            "Requirement already satisfied: fonttools>=4.22.0 in /usr/local/lib/python3.11/dist-packages (from matplotlib) (4.58.4)\n",
            "Requirement already satisfied: kiwisolver>=1.3.1 in /usr/local/lib/python3.11/dist-packages (from matplotlib) (1.4.8)\n",
            "Requirement already satisfied: packaging>=20.0 in /usr/local/lib/python3.11/dist-packages (from matplotlib) (24.2)\n",
            "Requirement already satisfied: pillow>=8 in /usr/local/lib/python3.11/dist-packages (from matplotlib) (11.2.1)\n",
            "Requirement already satisfied: pyparsing>=2.3.1 in /usr/local/lib/python3.11/dist-packages (from matplotlib) (3.2.3)\n",
            "Requirement already satisfied: nvidia-nccl-cu12 in /usr/local/lib/python3.11/dist-packages (from xgboost) (2.21.5)\n",
            "Requirement already satisfied: six>=1.5 in /usr/local/lib/python3.11/dist-packages (from python-dateutil>=2.8.2->pandas) (1.17.0)\n"
          ]
        }
      ]
    },
    {
      "cell_type": "code",
      "source": [
        "import boto3\n",
        "import mimetypes\n",
        "import pandas as pd\n",
        "from sklearn.model_selection import train_test_split\n",
        "from sklearn.preprocessing import LabelEncoder, StandardScaler\n",
        "from xgboost import XGBClassifier\n",
        "from sklearn.metrics import classification_report, confusion_matrix\n",
        "import seaborn as sns\n",
        "import matplotlib.pyplot as plt\n",
        "import pickle\n"
      ],
      "metadata": {
        "id": "nPArTVrJNSHj"
      },
      "execution_count": 4,
      "outputs": []
    },
    {
      "cell_type": "markdown",
      "source": [
        "#Vibration analytics"
      ],
      "metadata": {
        "id": "8s6toksTS7OG"
      }
    },
    {
      "cell_type": "code",
      "source": [
        "# Load CSV\n",
        "df = pd.read_csv(\"/content/drive/MyDrive/AI Air Assistance/emergency_classification_dataset.csv\")  # Replace with your actual CSV path\n",
        "\n",
        "# Separate features and labels\n",
        "X = df[['vibration', 'temperature', 'smoke']]\n",
        "y = df['label']\n",
        "\n",
        "# Encode labels\n",
        "label_encoder = LabelEncoder()\n",
        "y_encoded = label_encoder.fit_transform(y)\n",
        "\n",
        "# Train/Test split\n",
        "X_train, X_test, y_train, y_test = train_test_split(X, y_encoded, test_size=0.2, random_state=42)\n",
        "\n",
        "# Feature scaling\n",
        "scaler = StandardScaler()\n",
        "X_train_scaled = scaler.fit_transform(X_train)\n",
        "X_test_scaled = scaler.transform(X_test)\n",
        "\n",
        "model = XGBClassifier(use_label_encoder=False, eval_metric='mlogloss')\n",
        "model.fit(X_train_scaled, y_train)\n",
        "\n",
        "y_pred = model.predict(X_test_scaled)\n",
        "\n",
        "# Save model\n",
        "with open(\"aerosos_emergency_classifier.pkl\", \"wb\") as f:\n",
        "    pickle.dump(model, f)\n",
        "\n",
        "# Save scaler\n",
        "with open(\"aerosos_scaler.pkl\", \"wb\") as f:\n",
        "    pickle.dump(scaler, f)\n",
        "\n",
        "# Save label encoder\n",
        "with open(\"aerosos_label_encoder.pkl\", \"wb\") as f:\n",
        "    pickle.dump(label_encoder, f)\n"
      ],
      "metadata": {
        "colab": {
          "base_uri": "https://localhost:8080/"
        },
        "id": "6ShLR0mouFdu",
        "outputId": "83d93602-9f79-46bb-bcd3-d693d1d71691"
      },
      "execution_count": 5,
      "outputs": [
        {
          "output_type": "stream",
          "name": "stderr",
          "text": [
            "/usr/local/lib/python3.11/dist-packages/xgboost/core.py:158: UserWarning: [14:41:32] WARNING: /workspace/src/learner.cc:740: \n",
            "Parameters: { \"use_label_encoder\" } are not used.\n",
            "\n",
            "  warnings.warn(smsg, UserWarning)\n"
          ]
        }
      ]
    },
    {
      "cell_type": "code",
      "source": [
        "y_encoded"
      ],
      "metadata": {
        "colab": {
          "base_uri": "https://localhost:8080/"
        },
        "id": "ps8m_FVAQ6mY",
        "outputId": "e4ed2f28-c73d-4641-eff1-57d4201b8664"
      },
      "execution_count": 30,
      "outputs": [
        {
          "output_type": "execute_result",
          "data": {
            "text/plain": [
              "array([2, 2, 2, 2, 2, 2, 2, 2, 2, 2, 2, 2, 2, 2, 2, 2, 2, 2, 2, 2, 2, 2,\n",
              "       2, 2, 2, 2, 2, 2, 2, 2, 2, 2, 2, 2, 2, 2, 2, 2, 2, 2, 2, 2, 2, 2,\n",
              "       2, 2, 2, 2, 2, 2, 0, 0, 0, 0, 0, 0, 0, 0, 0, 0, 0, 0, 0, 0, 0, 0,\n",
              "       0, 0, 0, 0, 3, 3, 3, 3, 3, 3, 3, 3, 3, 3, 3, 3, 3, 3, 3, 3, 3, 3,\n",
              "       3, 3, 4, 4, 4, 4, 4, 4, 4, 4, 4, 4, 4, 4, 4, 4, 4, 4, 4, 4, 4, 4,\n",
              "       1, 1, 1, 1, 1, 1, 1, 1, 1, 1, 1, 1, 1, 1, 1, 1, 1, 1, 1, 1, 2, 2,\n",
              "       2, 2, 2, 2, 2, 2, 2, 2, 2, 2, 2, 2, 2, 2, 2, 2, 2, 2])"
            ]
          },
          "metadata": {},
          "execution_count": 30
        }
      ]
    },
    {
      "cell_type": "code",
      "source": [
        "{0:\"crash_landing\", 1:\"Decompression\", 2:\"Normal\", 3:\"onboard_fire\", 4:\"turbulence\"}"
      ],
      "metadata": {
        "id": "kr-EdvRuQuRZ"
      },
      "execution_count": null,
      "outputs": []
    },
    {
      "cell_type": "code",
      "source": [
        "emergency=int(list(model.predict(scaler.transform(X_test.head(1))))[0])"
      ],
      "metadata": {
        "id": "HU4HB3pXQIa5"
      },
      "execution_count": 28,
      "outputs": []
    },
    {
      "cell_type": "code",
      "source": [
        "if emergency==1:\n",
        "  pass\n",
        "else:\n",
        "  print(emergency)"
      ],
      "metadata": {
        "colab": {
          "base_uri": "https://localhost:8080/"
        },
        "id": "0xns6LiNPtVL",
        "outputId": "0459d365-6040-4821-d004-cfe0c4340106"
      },
      "execution_count": 33,
      "outputs": [
        {
          "output_type": "stream",
          "name": "stdout",
          "text": [
            "3\n"
          ]
        }
      ]
    },
    {
      "cell_type": "markdown",
      "source": [
        "#Trigger emergency whenever detected anomaly:"
      ],
      "metadata": {
        "id": "kvguPZSHPATZ"
      }
    },
    {
      "cell_type": "code",
      "source": [
        "pass_details = [{\n",
        "    \"passenger_id\": \"PAX001\",\n",
        "    \"name\": \"Allison Hill\",\n",
        "    \"age\": 36,\n",
        "    \"age_group\": \"adult\",\n",
        "    \"gender\": \"male\",\n",
        "    \"language_preference\": \"bengali\",\n",
        "    \"seat_number\": \"8B\"\n",
        "  },\n",
        "    {\n",
        "    \"passenger_id\": \"PAX004\",\n",
        "    \"name\": \"Daniel Wagner\",\n",
        "    \"age\": 26,\n",
        "    \"age_group\": \"young_adult\",\n",
        "    \"gender\": \"male\",\n",
        "    \"language_preference\": \"english\",\n",
        "    \"seat_number\": \"23D\",\n",
        "    \"medical_conditions\": \"diabetes\",\n",
        "    \"traveling_with\": \"guardian\",\n",
        "    \"special_needs\": \"wheelchair\"\n",
        "  }]"
      ],
      "metadata": {
        "id": "5kfbsFzpWyYU"
      },
      "execution_count": 35,
      "outputs": []
    },
    {
      "cell_type": "code",
      "source": [
        "passenger_id = \"PAX001\""
      ],
      "metadata": {
        "id": "Gr9OPahZlmER"
      },
      "execution_count": 36,
      "outputs": []
    },
    {
      "cell_type": "code",
      "source": [
        "for pass_detail in pass_details:\n",
        "  if pass_detail[\"passenger_id\"] == passenger_id:\n",
        "    pass_details = pass_detail\n",
        "    break"
      ],
      "metadata": {
        "id": "jiP1QCncl5IY"
      },
      "execution_count": 37,
      "outputs": []
    },
    {
      "cell_type": "code",
      "source": [
        "user_profile = pass_details[\"age_group\"] + \"_\" +pass_details[\"language_preference\"]\n",
        "seat_number  = pass_details[\"seat_number\"]\n",
        "lang = pass_details[\"language_preference\"]\n",
        "age_group = pass_details[\"age_group\"]"
      ],
      "metadata": {
        "id": "kMlH3CCCZTda"
      },
      "execution_count": 38,
      "outputs": []
    },
    {
      "cell_type": "code",
      "source": [
        "text = \"You're an aviation safety assistant. Generate a short, calm \"+ lang +\" voice instruction in less than 20 words, suitable for a cabin \"+ str(emergency) +\". The instruction should help a panicked \"+ age_group +\" person seating at \"+ seat_number +\" take immediate action to survive. Write for someone who may not understand technical terms or is visually impaired. Avoid complicated language.\""
      ],
      "metadata": {
        "id": "ZMZed03PX6gr"
      },
      "execution_count": 40,
      "outputs": []
    },
    {
      "cell_type": "code",
      "source": [
        "image_path = \"/content/drive/MyDrive/AI Air Assistance/fligt_in.png\""
      ],
      "metadata": {
        "id": "Iq82OKF2acdB"
      },
      "execution_count": 41,
      "outputs": []
    },
    {
      "cell_type": "code",
      "source": [
        "\"\"\"\n",
        " {\n",
        "        \"emergency\": \"onboard_fire\",\n",
        "        \"user_profile\": \"elderly_hindi\",\n",
        "        \"seat_number\": \"8B\",\n",
        "        \"text\": \"Generate a short Hindi instruction for onboard fire emergency.\",\n",
        "        \"image_path\": \"./prompting_images/animal1.png\n",
        "    }\n",
        "\n",
        "    OUTPUT: text prompt (using emergency type, user_profile and text) and image path\n",
        "\"\"\""
      ],
      "metadata": {
        "colab": {
          "base_uri": "https://localhost:8080/",
          "height": 53
        },
        "id": "L7k6N5DNO75U",
        "outputId": "211acf91-9181-42cc-9bc2-79b087b07d11"
      },
      "execution_count": 42,
      "outputs": [
        {
          "output_type": "execute_result",
          "data": {
            "text/plain": [
              "'\\n {\\n        \"emergency\": \"onboard_fire\",\\n        \"user_profile\": \"elderly_hindi\",\\n        \"seat_number\": \"8B\",\\n        \"text\": \"Generate a short Hindi instruction for onboard fire emergency.\",\\n        \"image_path\": \"./prompting_images/animal1.png\\n    }\\n\\n    OUTPUT: text prompt (using emergency type, user_profile and text) and image path\\n'"
            ],
            "application/vnd.google.colaboratory.intrinsic+json": {
              "type": "string"
            }
          },
          "metadata": {},
          "execution_count": 42
        }
      ]
    },
    {
      "cell_type": "markdown",
      "source": [
        "#Pass propt (text + image) to get output"
      ],
      "metadata": {
        "id": "fnCUjfwORk5I"
      }
    },
    {
      "cell_type": "code",
      "source": [
        "import boto3\n",
        "\n",
        "session = boto3.Session(\n",
        "    aws_access_key_id=\"YOUR_AWS_ACCESS_KEY_ID\",\n",
        "    aws_secret_access_key=\"YOUR_AWS_SECRET_ACCESS_KEY\",\n",
        "    region_name=\"us-west-2\"\n",
        ")"
      ],
      "metadata": {
        "id": "5dfKpNaoTOem"
      },
      "execution_count": 49,
      "outputs": []
    },
    {
      "cell_type": "markdown",
      "source": [],
      "metadata": {
        "id": "G-XM18eQZLAT"
      }
    },
    {
      "cell_type": "code",
      "source": [
        "def create_image_message(image_path):\n",
        "    # Open the image file in \"read binary\" mode\n",
        "    with open(image_path, \"rb\") as image_file:\n",
        "        # Read the contents of the image as a bytes object\n",
        "        binary_data = image_file.read()\n",
        "\n",
        "    # Get the MIME type of the image based on its file extension\n",
        "    mime_type, _ = mimetypes.guess_type(image_path)\n",
        "\n",
        "    sub_type = mime_type.split(\"/\")[-1]\n",
        "\n",
        "    # Create the image block\n",
        "    image_block = {\n",
        "        \"image\": {\n",
        "            \"format\": sub_type,\n",
        "            \"source\": {\n",
        "                \"bytes\": binary_data\n",
        "            }\n",
        "        }\n",
        "    }\n",
        "\n",
        "\n",
        "    return image_block"
      ],
      "metadata": {
        "id": "HiWDCePtNOPa"
      },
      "execution_count": 50,
      "outputs": []
    },
    {
      "cell_type": "code",
      "source": [
        "def generate_conversation(messages,\n",
        "                          ):\n",
        "\n",
        "    bedrock_client = boto3.client(service_name='bedrock-runtime', region_name=\"us-west-2\")\n",
        "    model_id = \"anthropic.claude-3-5-sonnet-20241022-v2:0\"\n",
        "\n",
        "    # Send the message.\n",
        "    response = bedrock_client.converse(\n",
        "        modelId=model_id,\n",
        "        messages=messages\n",
        "    )\n",
        "\n",
        "    return response[\"output\"][\"message\"][\"content\"][0][\"text\"]"
      ],
      "metadata": {
        "id": "vANULhXLNH8T"
      },
      "execution_count": 51,
      "outputs": []
    },
    {
      "cell_type": "code",
      "source": [
        "messages = [\n",
        "    {\n",
        "        \"role\": \"user\",\n",
        "        \"content\": [\n",
        "            create_image_message(image_path),\n",
        "            {\"text\": text}\n",
        "        ]\n",
        "    }\n",
        "]"
      ],
      "metadata": {
        "id": "AB0KMjeLNfti"
      },
      "execution_count": 52,
      "outputs": []
    },
    {
      "cell_type": "code",
      "source": [
        "response = generate_conversation(messages)"
      ],
      "metadata": {
        "id": "CyR8FhyfNhtK"
      },
      "execution_count": null,
      "outputs": []
    },
    {
      "cell_type": "code",
      "source": [
        "\"\"\"\n",
        "{\n",
        "        \"output\": \"नीचे झुकें। दरवाज़ा खोजें। कपड़ा मुंह पर रखें।\"\n",
        "    },\n",
        "\"\"\""
      ],
      "metadata": {
        "id": "LtR4PCIfTMnu"
      },
      "execution_count": null,
      "outputs": []
    },
    {
      "cell_type": "markdown",
      "source": [
        "#Convert output to audio for passengers"
      ],
      "metadata": {
        "id": "wWudgiO6TSk-"
      }
    },
    {
      "cell_type": "code",
      "source": [
        "import re\n",
        "\n",
        "# Voice mapping (Amazon Polly availability, region: us-east-1 or ap-south-1)\n",
        "voice_map = {\n",
        "    \"english\": \"Joanna\",      # en-US\n",
        "    \"hindi\": \"Aditi\",         # hi-IN (bilingual: English + Hindi)\n",
        "    \"tamil\": \"Kajal\",         # ta-IN\n",
        "    \"telugu\": \"Chitra\",       # te-IN\n",
        "    \"malayalam\": \"Parvathi\",  # ml-IN\n",
        "    \"bengali\": \"Jaya\",        # bn-IN\n",
        "    \"urdu\": \"Zeina\",          # Urdu-Arabic script\n",
        "    # Polly currently lacks voices for Punjabi, Marathi, Kannada (we fallback to English)\n",
        "    \"punjabi\": \"Joanna\",\n",
        "    \"marathi\": \"Joanna\",\n",
        "    \"kannada\": \"Joanna\"\n",
        "}\n",
        "\n",
        "def detect_language(text):\n",
        "    # Unicode block detection\n",
        "    if re.search(r\"[\\u0900-\\u097F]\", text):\n",
        "        if re.search(r\"म|ना|के|में\", text): return \"hindi\"\n",
        "        elif re.search(r\"ਅ|ਸ|ਹ|ਰ|ਕ\", text): return \"punjabi\"\n",
        "        elif re.search(r\"अ|आ|क|ख\", text): return \"marathi\"\n",
        "    elif re.search(r\"[\\u0B80-\\u0BFF]\", text): return \"tamil\"\n",
        "    elif re.search(r\"[\\u0C00-\\u0C7F]\", text): return \"telugu\"\n",
        "    elif re.search(r\"[\\u0D00-\\u0D7F]\", text): return \"malayalam\"\n",
        "    elif re.search(r\"[\\u0C80-\\u0CFF]\", text): return \"kannada\"\n",
        "    elif re.search(r\"[\\u0980-\\u09FF]\", text): return \"bengali\"\n",
        "    elif re.search(r\"[\\u0600-\\u06FF]\", text): return \"urdu\"\n",
        "    else:\n",
        "        return \"english\"\n"
      ],
      "metadata": {
        "id": "W21lXyvzd1R-"
      },
      "execution_count": null,
      "outputs": []
    },
    {
      "cell_type": "code",
      "source": [
        "language_code = detect_language(text_output)\n",
        "voice_id = voice_map.get(language_code, \"Joanna\")"
      ],
      "metadata": {
        "id": "OiRU6tessArg"
      },
      "execution_count": null,
      "outputs": []
    },
    {
      "cell_type": "code",
      "source": [
        "# Convert to speech using Polly\n",
        "speech_response = polly.synthesize_speech(\n",
        "    Text=text_output,\n",
        "    OutputFormat=\"mp3\",\n",
        "    VoiceId=voice_id,\n",
        "    LanguageCode=language_code if language_code != \"en\" else \"en-US\"\n",
        ")\n",
        "\n",
        "# Save audio\n",
        "audio_path = \"claude_output_audio.mp3\"\n",
        "with open(audio_path, \"wb\") as file:\n",
        "    file.write(speech_response['AudioStream'].read())\n",
        "\n",
        "print(f\"Audio saved to {audio_path}\")"
      ],
      "metadata": {
        "id": "Y5jPUa6nTX6T"
      },
      "execution_count": null,
      "outputs": []
    },
    {
      "cell_type": "markdown",
      "source": [
        "Audo is passed to the End-User"
      ],
      "metadata": {
        "id": "GenpUvRPifer"
      }
    },
    {
      "cell_type": "code",
      "source": [],
      "metadata": {
        "id": "BPXlcsgsih27"
      },
      "execution_count": null,
      "outputs": []
    }
  ]
}